{
 "cells": [
  {
   "cell_type": "markdown",
   "id": "5c2e458d",
   "metadata": {},
   "source": [
    "NumPy is a Python library for creating and manipulating vectors and matrices."
   ]
  },
  {
   "cell_type": "code",
   "execution_count": 61,
   "id": "5f5bd69c",
   "metadata": {},
   "outputs": [],
   "source": [
    "#import numpy\n",
    "import numpy as np"
   ]
  },
  {
   "cell_type": "markdown",
   "id": "73e1552b",
   "metadata": {},
   "source": [
    "## Populate arrays with specific numbers\n",
    "\n",
    "Call `np.array` to create a NumPy matrix with your own hand-picked values. For example, the following call to `np.array` creates an 5-element vector:"
   ]
  },
  {
   "cell_type": "code",
   "execution_count": 62,
   "id": "f52ef2ec",
   "metadata": {},
   "outputs": [
    {
     "name": "stdout",
     "output_type": "stream",
     "text": [
      "[1 2 3 4 5]\n"
     ]
    }
   ],
   "source": [
    "oneDArray = np.array([1,2,3,4,5])\n",
    "print(oneDArray)"
   ]
  },
  {
   "cell_type": "code",
   "execution_count": 63,
   "id": "2f5c8fec",
   "metadata": {},
   "outputs": [
    {
     "data": {
      "text/plain": [
       "(array([[1, 2],\n",
       "        [3, 4],\n",
       "        [5, 6]]),\n",
       " numpy.ndarray)"
      ]
     },
     "execution_count": 63,
     "metadata": {},
     "output_type": "execute_result"
    }
   ],
   "source": [
    "##Creating 2D Arrays\n",
    "\n",
    "twoDArray =  np.array([[1,2],[3,4],[5,6]])\n",
    "twoDArray,type(twoDArray)"
   ]
  },
  {
   "cell_type": "code",
   "execution_count": 64,
   "id": "b38d1589",
   "metadata": {},
   "outputs": [
    {
     "name": "stderr",
     "output_type": "stream",
     "text": [
      "<ipython-input-64-e2f8506b30f2>:2: VisibleDeprecationWarning: Creating an ndarray from ragged nested sequences (which is a list-or-tuple of lists-or-tuples-or ndarrays with different lengths or shapes) is deprecated. If you meant to do this, you must specify 'dtype=object' when creating the ndarray.\n",
      "  twoDArray =  np.array([[1,2],[3],[5,6]])\n"
     ]
    },
    {
     "data": {
      "text/plain": [
       "(array([list([1, 2]), list([3]), list([5, 6])], dtype=object),\n",
       " numpy.ndarray,\n",
       " [1, 2])"
      ]
     },
     "execution_count": 64,
     "metadata": {},
     "output_type": "execute_result"
    }
   ],
   "source": [
    "#Creates 1D Array whose each element is a list\n",
    "twoDArray =  np.array([[1,2],[3],[5,6]])\n",
    "twoDArray,type(twoDArray),twoDArray[0]"
   ]
  },
  {
   "cell_type": "code",
   "execution_count": 65,
   "id": "6ee231be",
   "metadata": {},
   "outputs": [
    {
     "data": {
      "text/plain": [
       "(array([0., 0., 0.]),\n",
       " array([[0., 0., 0.],\n",
       "        [0., 0., 0.],\n",
       "        [0., 0., 0.]]))"
      ]
     },
     "execution_count": 65,
     "metadata": {},
     "output_type": "execute_result"
    }
   ],
   "source": [
    "# a matrix with all zeroes, call np.zeros. \n",
    "\n",
    "np.zeros(3), np.zeros((3,3))\n"
   ]
  },
  {
   "cell_type": "code",
   "execution_count": 66,
   "id": "0e0af3f1",
   "metadata": {},
   "outputs": [
    {
     "data": {
      "text/plain": [
       "(array([1., 1., 1.]),\n",
       " array([[1., 1., 1., 1.],\n",
       "        [1., 1., 1., 1.],\n",
       "        [1., 1., 1., 1.]]))"
      ]
     },
     "execution_count": 66,
     "metadata": {},
     "output_type": "execute_result"
    }
   ],
   "source": [
    "# a matrix with all ones, call np.ones.\n",
    "\n",
    "np.ones(3), np.ones((3,4))"
   ]
  },
  {
   "cell_type": "markdown",
   "id": "5bc59dea",
   "metadata": {},
   "source": [
    "## Populate arrays with sequences of numbers\n"
   ]
  },
  {
   "cell_type": "code",
   "execution_count": 67,
   "id": "d24f2bd8",
   "metadata": {},
   "outputs": [
    {
     "name": "stdout",
     "output_type": "stream",
     "text": [
      "[  5   6   7   8   9  10  11  12  13  14  15  16  17  18  19  20  21  22\n",
      "  23  24  25  26  27  28  29  30  31  32  33  34  35  36  37  38  39  40\n",
      "  41  42  43  44  45  46  47  48  49  50  51  52  53  54  55  56  57  58\n",
      "  59  60  61  62  63  64  65  66  67  68  69  70  71  72  73  74  75  76\n",
      "  77  78  79  80  81  82  83  84  85  86  87  88  89  90  91  92  93  94\n",
      "  95  96  97  98  99 100 101 102 103 104 105 106 107 108 109 110 111 112\n",
      " 113 114 115 116 117 118 119]\n"
     ]
    }
   ],
   "source": [
    "#You can populate an array with a sequence of numbers\n",
    "seq=np.arange(5,120)\n",
    "print(seq)"
   ]
  },
  {
   "cell_type": "code",
   "execution_count": 68,
   "id": "0c347907",
   "metadata": {},
   "outputs": [
    {
     "name": "stdout",
     "output_type": "stream",
     "text": [
      "[  5   7   9  11  13  15  17  19  21  23  25  27  29  31  33  35  37  39\n",
      "  41  43  45  47  49  51  53  55  57  59  61  63  65  67  69  71  73  75\n",
      "  77  79  81  83  85  87  89  91  93  95  97  99 101 103 105 107 109 111\n",
      " 113 115 117 119]\n"
     ]
    }
   ],
   "source": [
    "#populating an array with alternative numbers\n",
    "seq=np.arange(5,120,2)\n",
    "print(seq)"
   ]
  },
  {
   "cell_type": "code",
   "execution_count": 69,
   "id": "d4d6d725",
   "metadata": {},
   "outputs": [
    {
     "name": "stdout",
     "output_type": "stream",
     "text": [
      "[  5  10  15  20  25  30  35  40  45  50  55  60  65  70  75  80  85  90\n",
      "  95 100 105 110 115]\n"
     ]
    }
   ],
   "source": [
    "#populating an array with every 5th numbers\n",
    "seq=np.arange(5,120,5)\n",
    "print(seq)"
   ]
  },
  {
   "cell_type": "markdown",
   "id": "16c45680",
   "metadata": {},
   "source": [
    "## Array with Random numbers\n",
    "\n",
    "NumPy provides various functions to populate matrices with random numbers across certain ranges. For example, `np.random.randint` generates random integers between a low and high value. The following call populates a 6-element vector with random integers between 10 and 100. The highest generated integer is one less than the `high` argument."
   ]
  },
  {
   "cell_type": "code",
   "execution_count": 70,
   "id": "6d941ac9",
   "metadata": {},
   "outputs": [
    {
     "data": {
      "text/plain": [
       "array([70, 86, 58, 85, 50, 48])"
      ]
     },
     "execution_count": 70,
     "metadata": {},
     "output_type": "execute_result"
    }
   ],
   "source": [
    "#np.random.randint(low=10,high=100,size=6)\n",
    "#default value for size is 1 \n",
    "randomarray=np.random.randint(10,100,6)\n",
    "randomarray"
   ]
  },
  {
   "cell_type": "code",
   "execution_count": 71,
   "id": "a7bb93ab",
   "metadata": {},
   "outputs": [
    {
     "data": {
      "text/plain": [
       "array([0.65682183, 0.55393334, 0.81425738, 0.29214584, 0.41551191,\n",
       "       0.155913  , 0.9508133 , 0.01190527, 0.0806794 , 0.34972322])"
      ]
     },
     "execution_count": 71,
     "metadata": {},
     "output_type": "execute_result"
    }
   ],
   "source": [
    "#To create random floating-point values between 0.0 and 1.0, call `np.random.random`. \n",
    "\n",
    "np.random.random(10)"
   ]
  },
  {
   "cell_type": "markdown",
   "id": "34698897",
   "metadata": {},
   "source": [
    "## Mathematical Operations on NumPy Operands\n"
   ]
  },
  {
   "cell_type": "code",
   "execution_count": 72,
   "id": "4b7aa4f9",
   "metadata": {},
   "outputs": [],
   "source": [
    "#If you want to add or subtract two vectors or matrices, linear algebra requires that the two operands have the same dimensions.\n",
    "#Furthermore, if you want to multiply two vectors or matrices, linear algebra imposes strict rules on the dimensional compatibility of operands. \n",
    "#Fortunately, NumPy uses a trick called **broadcasting** to virtually expand the smaller operand to dimensions compatible for linear algebra.\n",
    "#For example, the following operation uses broadcasting to add 6.0 to the value of every item in the vector created."
   ]
  },
  {
   "cell_type": "code",
   "execution_count": 73,
   "id": "0e39ed5e",
   "metadata": {},
   "outputs": [
    {
     "data": {
      "text/plain": [
       "(array([50, 41, 95, 60, 35, 33]), array([ 56,  47, 101,  66,  41,  39]))"
      ]
     },
     "execution_count": 73,
     "metadata": {},
     "output_type": "execute_result"
    }
   ],
   "source": [
    "randomarray=np.random.randint(10,100,6)\n",
    "randomarray,randomarray+6"
   ]
  },
  {
   "cell_type": "code",
   "execution_count": 74,
   "id": "44b6e43c",
   "metadata": {},
   "outputs": [
    {
     "data": {
      "text/plain": [
       "(array([12, 11, 18, 17, 13, 11]), array([36, 33, 54, 51, 39, 33]))"
      ]
     },
     "execution_count": 74,
     "metadata": {},
     "output_type": "execute_result"
    }
   ],
   "source": [
    "#The following operation also relies on broadcasting to multiply each cell in a vector by 3:\n",
    "randomarray=np.random.randint(10,20,6)\n",
    "randomarray,randomarray*3"
   ]
  },
  {
   "cell_type": "code",
   "execution_count": 75,
   "id": "17792e27",
   "metadata": {},
   "outputs": [
    {
     "name": "stdout",
     "output_type": "stream",
     "text": [
      "[0.06327313 0.2134568  0.24331687] <class 'numpy.ndarray'>\n"
     ]
    }
   ],
   "source": [
    "noise = np.random.random(3) #creates 3 fp numbers between 0 and 1\n",
    "print(noise,type(noise))"
   ]
  },
  {
   "cell_type": "code",
   "execution_count": 76,
   "id": "9d4c5e76",
   "metadata": {},
   "outputs": [
    {
     "data": {
      "text/plain": [
       "array([ 0.97119073, -1.88164257, -0.28776444,  0.34469766,  0.40990361,\n",
       "       -1.90391771,  0.58932156, -1.79009069,  0.08770406, -1.69368097,\n",
       "        0.97674425, -1.33497526, -1.87066121, -1.50967278,  1.88365874])"
      ]
     },
     "execution_count": 76,
     "metadata": {},
     "output_type": "execute_result"
    }
   ],
   "source": [
    "noise = np.random.uniform(-2,2,15)  # generates a random floating number between -2 and 2\n",
    "#noise = (np.random.random([15]) * 4) - 2 \n",
    "noise"
   ]
  },
  {
   "cell_type": "code",
   "execution_count": null,
   "id": "6e6d4a6f",
   "metadata": {},
   "outputs": [],
   "source": []
  },
  {
   "cell_type": "code",
   "execution_count": null,
   "id": "aa2e93fa",
   "metadata": {},
   "outputs": [],
   "source": []
  }
 ],
 "metadata": {
  "kernelspec": {
   "display_name": "Python 3",
   "language": "python",
   "name": "python3"
  },
  "language_info": {
   "codemirror_mode": {
    "name": "ipython",
    "version": 3
   },
   "file_extension": ".py",
   "mimetype": "text/x-python",
   "name": "python",
   "nbconvert_exporter": "python",
   "pygments_lexer": "ipython3",
   "version": "3.8.8"
  }
 },
 "nbformat": 4,
 "nbformat_minor": 5
}
